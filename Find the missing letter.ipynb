{
 "cells": [
  {
   "cell_type": "markdown",
   "metadata": {},
   "source": [
    "## Find the missing letter\n",
    "\n",
    "A method was written that takes an array of consecutive (increasing) letters as input and returns the missing letter in the array.\n",
    "\n",
    "You will always get an valid array. And it will be always exactly one letter be missing. The length of the array will always be at least 2. The array will always contain letters in only one case."
   ]
  },
  {
   "cell_type": "code",
   "execution_count": 1,
   "metadata": {},
   "outputs": [],
   "source": [
    "import string\n",
    "def find_missing_letter(letter_input):\n",
    "    alphabets = string.ascii_lowercase\n",
    "    #letter_input = ['A','b','c','d','f']\n",
    "    letters = ' '.join(letter_input).lower().split(\" \")\n",
    "    #print(letters)\n",
    "    #print(letter_input)\n",
    "    index_list = []\n",
    "    new_letters = []\n",
    "    for letter in letters:\n",
    "        index = alphabets.index(letter)\n",
    "        index_list.append(index)\n",
    "    #print(index_list)\n",
    "    get_min = min(index_list)\n",
    "    get_max = max(index_list)\n",
    "    for i in range(get_min, get_max+1):\n",
    "        new_letters.append(alphabets[i])\n",
    "    for new_letter in new_letters:\n",
    "        if new_letter not in letters:\n",
    "            #print(new_letter)\n",
    "            if letter_input[0] in letters:\n",
    "                return new_letter\n",
    "            else:\n",
    "                return new_letter.upper()\n",
    "            "
   ]
  },
  {
   "cell_type": "code",
   "execution_count": 2,
   "metadata": {},
   "outputs": [
    {
     "data": {
      "text/plain": [
       "'e'"
      ]
     },
     "execution_count": 2,
     "metadata": {},
     "output_type": "execute_result"
    }
   ],
   "source": [
    "find_missing_letter(['a','b','c','d','f'])"
   ]
  },
  {
   "cell_type": "code",
   "execution_count": null,
   "metadata": {},
   "outputs": [],
   "source": []
  }
 ],
 "metadata": {
  "kernelspec": {
   "display_name": "Python 3",
   "language": "python",
   "name": "python3"
  },
  "language_info": {
   "codemirror_mode": {
    "name": "ipython",
    "version": 3
   },
   "file_extension": ".py",
   "mimetype": "text/x-python",
   "name": "python",
   "nbconvert_exporter": "python",
   "pygments_lexer": "ipython3",
   "version": "3.7.1"
  }
 },
 "nbformat": 4,
 "nbformat_minor": 2
}
