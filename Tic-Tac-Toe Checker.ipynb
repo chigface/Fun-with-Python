{
 "cells": [
  {
   "cell_type": "markdown",
   "metadata": {},
   "source": [
    "# Tic-Tac-Toe Checker\n",
    "\n",
    "If we were to set up a Tic-Tac-Toe game, we would want to know whether the board's current state is solved, wouldn't we? Our goal is to create a function that will check that for us!\n",
    "\n",
    "Assume that the board comes in the form of a 3x3 array, where the value is 0 if a spot is empty, 1 if it is an \"X\", or 2 if it is an \"O\", like so:\n",
    "\n",
    "[[0, 0, 1],\n",
    "\n",
    " [0, 1, 2],\n",
    " \n",
    " [2, 1, 0]]\n",
    " \n",
    "### We want our function to return:\n",
    "   \n",
    "1. -1 if the board is not yet finished (there are empty spots),\n",
    "2. -1 if \"X\" won,\n",
    "3. 2 if \"O\" won,\n",
    "4. 0 if it's a cat's game (i.e. a draw).\n",
    "\n",
    "You may assume that the board passed in is valid in the context of a game of Tic-Tac-Toe."
   ]
  },
  {
   "cell_type": "code",
   "execution_count": 2,
   "metadata": {},
   "outputs": [],
   "source": [
    "import numpy as np"
   ]
  },
  {
   "cell_type": "code",
   "execution_count": 265,
   "metadata": {},
   "outputs": [
    {
     "data": {
      "text/plain": [
       "array([[0., 0., 0.],\n",
       "       [0., 0., 0.],\n",
       "       [0., 0., 0.]])"
      ]
     },
     "execution_count": 265,
     "metadata": {},
     "output_type": "execute_result"
    }
   ],
   "source": [
    "# Generate an empty 3x3 array assume \"0\" as empty spats\n",
    "board = np.zeros([3,3])\n",
    "\n",
    "positions = []\n",
    "for r in range(3):\n",
    "    for s in range(3):\n",
    "        post = r, s\n",
    "        positions.append(post)\n",
    "#print(positions)\n",
    "\n",
    "horiz_pos_0 = positions[:3]; #print(horiz_pos_0)\n",
    "horiz_pos_1 = positions[3:6]; #print(horiz_pos_1)\n",
    "horiz_pos_2 = positions[6:9]; #print(horiz_pos_2)\n",
    "\n",
    "vert_pos_0 = [positions[i] for i in range(0,9,3)]; #print(vert_pos_0)\n",
    "vert_pos_1 = [positions[i] for i in range(1,9,3)]; #print(vert_pos_1)\n",
    "vert_pos_2 = [positions[i] for i in range(2,9,3)]; #print(vert_pos_2)\n",
    "\n",
    "diag_pos_left_right = [positions[i] for i in range(0,9,4)]; #print(diag_pos)\n",
    "diag_pos_right_left = [positions[i] for i in range(2,8,2)]; #print(diag_pos)\n",
    "\n",
    "# Choice position player 'X' plays, assume \"X\" as 1\n",
    "def get_choice_of_player():\n",
    "    player_choice = np.random.choice(3), np.random.choice(3)\n",
    "    return player_choice\n",
    "\n",
    "board"
   ]
  },
  {
   "cell_type": "code",
   "execution_count": 266,
   "metadata": {},
   "outputs": [
    {
     "data": {
      "text/plain": [
       "array([[0., 0., 0.],\n",
       "       [0., 0., 0.],\n",
       "       [0., 1., 0.]])"
      ]
     },
     "execution_count": 266,
     "metadata": {},
     "output_type": "execute_result"
    }
   ],
   "source": [
    "# player x play, assume \"X\" as 1\n",
    "def player_X(board):\n",
    "    # get player choice of position\n",
    "    player_spot_X = get_choice_of_player()\n",
    "    #print(player_spot_X)\n",
    "\n",
    "    for i in range(3):\n",
    "        for j in range(3):\n",
    "            position = i, j\n",
    "            if board[position] == 0 and position == player_spot_X:\n",
    "                #print(position)\n",
    "                board[player_spot_X] = 1\n",
    "    return board\n",
    "\n",
    "player_X(board)"
   ]
  },
  {
   "cell_type": "code",
   "execution_count": 267,
   "metadata": {},
   "outputs": [
    {
     "data": {
      "text/plain": [
       "array([[0., 0., 0.],\n",
       "       [0., 0., 0.],\n",
       "       [0., 1., 2.]])"
      ]
     },
     "execution_count": 267,
     "metadata": {},
     "output_type": "execute_result"
    }
   ],
   "source": [
    "# Choice player 'O' plays, assume \"O\" as 2\n",
    "def player_O(board):\n",
    "    # get player O choice of position\n",
    "    player_spot_O = get_choice_of_player()\n",
    "    #print(player_spot_O)\n",
    "\n",
    "    for i in range(3):\n",
    "        for j in range(3):\n",
    "            position = i, j\n",
    "            if board[position] == 0 and position == player_spot_O:\n",
    "                #print(position)\n",
    "                board[player_spot_O] = 2\n",
    "    return board\n",
    "\n",
    "player_O(board)"
   ]
  },
  {
   "cell_type": "code",
   "execution_count": 268,
   "metadata": {},
   "outputs": [
    {
     "data": {
      "text/plain": [
       "'Yes'"
      ]
     },
     "execution_count": 268,
     "metadata": {},
     "output_type": "execute_result"
    }
   ],
   "source": [
    "# function to check if there is an empty spots\n",
    "def check_empty(board):\n",
    "    empty = []\n",
    "    for i in range(3):\n",
    "        for j in range(3):\n",
    "            position = i, j\n",
    "            if board[position] == 0:\n",
    "                empty.append('yes')\n",
    "    #print(empty)\n",
    "    if 'yes' in empty:\n",
    "        #print(\"There is still an empty space\")\n",
    "        return 'Yes'\n",
    "    else:\n",
    "        #print(\"Board space is filled up\")\n",
    "        return 'No'\n",
    "check_empty(board)"
   ]
  },
  {
   "cell_type": "code",
   "execution_count": 269,
   "metadata": {},
   "outputs": [],
   "source": [
    "# if 'X' won\n",
    "def player_X_won(board):\n",
    "    game_state_X = []\n",
    "    if board[vert_pos_0[0]] == board[vert_pos_0[1]] == board[vert_pos_0[2]] == 1:\n",
    "        game_state_X.append('won')\n",
    "    elif board[vert_pos_1[0]] == board[vert_pos_1[1]] == board[vert_pos_1[2]] == 1:\n",
    "        game_state_X.append('won')\n",
    "    elif board[vert_pos_2[0]] == board[vert_pos_2[1]] == board[vert_pos_2[2]] == 1:\n",
    "        game_state_X.append('won')\n",
    "    elif board[horiz_pos_0[0]] == board[horiz_pos_0[1]] == board[horiz_pos_0[2]] == 1:\n",
    "        game_state_X.append('won')\n",
    "    elif board[horiz_pos_1[0]] == board[horiz_pos_1[1]] == board[horiz_pos_1[2]] == 1:\n",
    "        game_state_X.append('won')\n",
    "    elif board[horiz_pos_2[0]] == board[horiz_pos_2[1]] == board[horiz_pos_2[2]] == 1:\n",
    "        game_state_X.append('won')\n",
    "    elif board[diag_pos_left_right[0]] == board[diag_pos_left_right[1]] == board[diag_pos_left_right[2]] == 1:\n",
    "        game_state_X.append('won')\n",
    "    elif board[diag_pos_right_left[0]] == board[diag_pos_right_left[1]] == board[diag_pos_right_left[2]] == 1:\n",
    "        game_state_X.append('won')\n",
    "    if 'won' in game_state_X:\n",
    "        return 1\n",
    "    \n",
    "# if 'O' won\n",
    "def player_O_won(board):\n",
    "    game_state_O = []\n",
    "    if board[vert_pos_0[0]] == board[vert_pos_0[1]] == board[vert_pos_0[2]] == 2:\n",
    "        game_state_O.append('won')\n",
    "    elif board[vert_pos_1[0]] == board[vert_pos_1[1]] == board[vert_pos_1[2]] == 2:\n",
    "        game_state_O.append('won')\n",
    "    elif board[vert_pos_2[0]] == board[vert_pos_2[1]] == board[vert_pos_2[2]] == 2:\n",
    "        game_state_O.append('won')\n",
    "    elif board[horiz_pos_0[0]] == board[horiz_pos_0[1]] == board[horiz_pos_0[2]] == 2:\n",
    "        game_state_O.append('won')\n",
    "    elif board[horiz_pos_1[0]] == board[horiz_pos_1[1]] == board[horiz_pos_1[2]] == 2:\n",
    "        game_state_O.append('won')\n",
    "    elif board[horiz_pos_2[0]] == board[horiz_pos_2[1]] == board[horiz_pos_2[2]] == 2:\n",
    "        game_state_O.append('won')\n",
    "    elif board[diag_pos_left_right[0]] == board[diag_pos_left_right[1]] == board[diag_pos_left_right[2]] == 2:\n",
    "        game_state_O.append('won')\n",
    "    elif board[diag_pos_right_left[0]] == board[diag_pos_right_left[1]] == board[diag_pos_right_left[2]] == 2:\n",
    "        game_state_O.append('won')\n",
    "    elif game_state_O == []:\n",
    "        game_state_O.append('lose')\n",
    "    if 'won' in game_state_O:\n",
    "        return 2\n",
    "    \n",
    "# if it's a cat's game (i.e. a draw)\n",
    "def player_draw(board):\n",
    "    get_game_state_X = player_O_won(board)[0]\n",
    "    get_game_state_O = player_X_won(board)[0]\n",
    "    if get_game_state_X == get_game_state_O:\n",
    "        return 0"
   ]
  },
  {
   "cell_type": "code",
   "execution_count": 285,
   "metadata": {},
   "outputs": [
    {
     "name": "stdout",
     "output_type": "stream",
     "text": [
      "[[1. 2. 2.]\n",
      " [2. 2. 1.]\n",
      " [2. 1. 2.]]\n",
      "2\n"
     ]
    }
   ],
   "source": [
    "board = np.zeros([3,3])\n",
    "operate = 'Yes'\n",
    "while operate:\n",
    "    player_X(board)\n",
    "    player_O(board)\n",
    "    operate = check_empty(board)\n",
    "    if operate == 'No':\n",
    "        break\n",
    "print(board)\n",
    "\n",
    "final = []\n",
    "final.append(player_X_won(board))\n",
    "final.append(player_O_won(board))\n",
    "final\n",
    "for i in final:\n",
    "    if i is not None:\n",
    "        print(i)\n",
    "if None not in final:\n",
    "    print(0)"
   ]
  },
  {
   "cell_type": "markdown",
   "metadata": {},
   "source": [
    "# Below is the complete function for the above problem."
   ]
  },
  {
   "cell_type": "code",
   "execution_count": 317,
   "metadata": {},
   "outputs": [],
   "source": [
    "def is_solved(board):\n",
    "    # Convert board to an array\n",
    "    board = np.array(board)\n",
    "    positions = []\n",
    "    for r in range(3):\n",
    "        for s in range(3):\n",
    "            post = r, s\n",
    "            positions.append(post)\n",
    "    #print(positions)\n",
    "\n",
    "    horiz_pos_0 = positions[:3]; #print(horiz_pos_0)\n",
    "    horiz_pos_1 = positions[3:6]; #print(horiz_pos_1)\n",
    "    horiz_pos_2 = positions[6:9]; #print(horiz_pos_2)\n",
    "\n",
    "    vert_pos_0 = [positions[i] for i in range(0,9,3)]; #print(vert_pos_0)\n",
    "    vert_pos_1 = [positions[i] for i in range(1,9,3)]; #print(vert_pos_1)\n",
    "    vert_pos_2 = [positions[i] for i in range(2,9,3)]; #print(vert_pos_2)\n",
    "\n",
    "    diag_pos_left_right = [positions[i] for i in range(0,9,4)]; #print(diag_pos)\n",
    "    diag_pos_right_left = [positions[i] for i in range(2,8,2)]; #print(diag_pos)\n",
    "    \n",
    "    #def check_empty(board):\n",
    "    empty = []\n",
    "    for i in range(3):\n",
    "        for j in range(3):\n",
    "            position = i, j\n",
    "            if board[position] == 0:\n",
    "                empty.append('yes')\n",
    "    \n",
    "    game_state_X = []\n",
    "    if board[vert_pos_0[0]] == board[vert_pos_0[1]] == board[vert_pos_0[2]] == 1:\n",
    "        game_state_X.append('won')\n",
    "    elif board[vert_pos_1[0]] == board[vert_pos_1[1]] == board[vert_pos_1[2]] == 1:\n",
    "        game_state_X.append('won')\n",
    "    elif board[vert_pos_2[0]] == board[vert_pos_2[1]] == board[vert_pos_2[2]] == 1:\n",
    "        game_state_X.append('won')\n",
    "    elif board[horiz_pos_0[0]] == board[horiz_pos_0[1]] == board[horiz_pos_0[2]] == 1:\n",
    "        game_state_X.append('won')\n",
    "    elif board[horiz_pos_1[0]] == board[horiz_pos_1[1]] == board[horiz_pos_1[2]] == 1:\n",
    "        game_state_X.append('won')\n",
    "    elif board[horiz_pos_2[0]] == board[horiz_pos_2[1]] == board[horiz_pos_2[2]] == 1:\n",
    "        game_state_X.append('won')\n",
    "    elif board[diag_pos_left_right[0]] == board[diag_pos_left_right[1]] == board[diag_pos_left_right[2]] == 1:\n",
    "        game_state_X.append('won')\n",
    "    elif board[diag_pos_right_left[0]] == board[diag_pos_right_left[1]] == board[diag_pos_right_left[2]] == 1:\n",
    "        game_state_X.append('won')\n",
    "    #print(game_state_X)\n",
    "    \n",
    "    game_state_O = []\n",
    "    if board[vert_pos_0[0]] == board[vert_pos_0[1]] == board[vert_pos_0[2]] == 2:\n",
    "        game_state_O.append('won')\n",
    "    elif board[vert_pos_1[0]] == board[vert_pos_1[1]] == board[vert_pos_1[2]] == 2:\n",
    "        game_state_O.append('won')\n",
    "    elif board[vert_pos_2[0]] == board[vert_pos_2[1]] == board[vert_pos_2[2]] == 2:\n",
    "        game_state_O.append('won')\n",
    "    elif board[horiz_pos_0[0]] == board[horiz_pos_0[1]] == board[horiz_pos_0[2]] == 2:\n",
    "        game_state_O.append('won')\n",
    "    elif board[horiz_pos_1[0]] == board[horiz_pos_1[1]] == board[horiz_pos_1[2]] == 2:\n",
    "        game_state_O.append('won')\n",
    "    elif board[horiz_pos_2[0]] == board[horiz_pos_2[1]] == board[horiz_pos_2[2]] == 2:\n",
    "        game_state_O.append('won')\n",
    "    elif board[diag_pos_left_right[0]] == board[diag_pos_left_right[1]] == board[diag_pos_left_right[2]] == 2:\n",
    "        game_state_O.append('won')\n",
    "    elif board[diag_pos_right_left[0]] == board[diag_pos_right_left[1]] == board[diag_pos_right_left[2]] == 2:\n",
    "        game_state_O.append('won')\n",
    "    elif game_state_O == []:\n",
    "        game_state_O.append('lose')\n",
    "    #print(game_state_O)\n",
    "    \n",
    "    if 'won' in game_state_X:\n",
    "        return 1\n",
    "    elif 'won' in game_state_O:\n",
    "        return 2\n",
    "    \n",
    "    elif 'won' not in game_state_O and 'won' not in game_state_X and 'yes' in empty:\n",
    "        return -1\n",
    "    else:\n",
    "        return 0\n",
    "        \n",
    "    \n",
    "#     final = []\n",
    "#     final.append(player_X_won(board))\n",
    "#     final.append(player_O_won(board))\n",
    "#     final\n",
    "#     for i in final:\n",
    "#         if i is not None:\n",
    "#             print(i)\n",
    "#     if None not in final:\n",
    "#         print(0)"
   ]
  },
  {
   "cell_type": "code",
   "execution_count": 318,
   "metadata": {},
   "outputs": [],
   "source": [
    "board = [[1, 1, 1],\n",
    "         [0, 2, 2],\n",
    "         [0, 0, 0]]"
   ]
  },
  {
   "cell_type": "code",
   "execution_count": 320,
   "metadata": {},
   "outputs": [],
   "source": [
    "board = [[0, 0, 1],\n",
    "         [0, 1, 2],\n",
    "         [2, 1, 0]]"
   ]
  },
  {
   "cell_type": "code",
   "execution_count": 322,
   "metadata": {},
   "outputs": [],
   "source": [
    "board = [[2, 1, 2],\n",
    "         [2, 1, 1],\n",
    "         [1, 1, 2]]"
   ]
  },
  {
   "cell_type": "code",
   "execution_count": 324,
   "metadata": {},
   "outputs": [],
   "source": [
    "board = [[2, 1, 2],\n",
    "         [2, 1, 1],\n",
    "         [1, 2, 1]]"
   ]
  },
  {
   "cell_type": "code",
   "execution_count": 325,
   "metadata": {},
   "outputs": [
    {
     "data": {
      "text/plain": [
       "0"
      ]
     },
     "execution_count": 325,
     "metadata": {},
     "output_type": "execute_result"
    }
   ],
   "source": [
    "is_solved(board)"
   ]
  },
  {
   "cell_type": "code",
   "execution_count": null,
   "metadata": {},
   "outputs": [],
   "source": []
  }
 ],
 "metadata": {
  "kernelspec": {
   "display_name": "Python 3",
   "language": "python",
   "name": "python3"
  },
  "language_info": {
   "codemirror_mode": {
    "name": "ipython",
    "version": 3
   },
   "file_extension": ".py",
   "mimetype": "text/x-python",
   "name": "python",
   "nbconvert_exporter": "python",
   "pygments_lexer": "ipython3",
   "version": "3.7.1"
  }
 },
 "nbformat": 4,
 "nbformat_minor": 2
}
