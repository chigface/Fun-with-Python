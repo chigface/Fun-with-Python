{
 "cells": [
  {
   "cell_type": "markdown",
   "metadata": {},
   "source": [
    "## Sum of Intervals\n",
    "Write a function called sum_of_intervals() that accepts an array of intervals, and returns the sum of all the interval lengths. Overlapping intervals should only be counted once.\n",
    "\n",
    "Intervals\n",
    "\n",
    "Intervals are represented by a pair of integers in the form of an array. The first value of the interval will always be less than the second value. Interval example: [1, 5] is an interval from 1 to 5. The length of this interval is 4.\n",
    "\n",
    "Overlapping Intervals\n",
    "\n",
    "List containing overlapping intervals:\n",
    "\n",
    "[\n",
    "   [1,4],\n",
    "   [7, 10],\n",
    "   [3, 5]\n",
    "]\n",
    "\n",
    "The sum of the lengths of these intervals is 7. Since [1, 4] and [3, 5] overlap, we can treat the interval as [1, 5], which has a length of 4.\n",
    "\n",
    "Examples:\n",
    "sum_of_intervals( [\n",
    "   [1,2],\n",
    "   [6, 10],\n",
    "   [11, 15]\n",
    "] ); // => 9\n",
    "\n",
    "sum_of_intervals( [\n",
    "   [1,4],\n",
    "   [7, 10],\n",
    "   [3, 5]\n",
    "] ); // => 7\n",
    "\n",
    "sum_of_intervals( [\n",
    "   [1,5],\n",
    "   [10, 20],\n",
    "   [1, 6],\n",
    "   [16, 19],\n",
    "   [5, 11]\n",
    "] ); // => 19\n"
   ]
  },
  {
   "cell_type": "code",
   "execution_count": 15,
   "metadata": {},
   "outputs": [],
   "source": [
    "def sum_of_intervals(list_intervals):\n",
    "    new_interval = []\n",
    "    for each_interval in list_intervals:\n",
    "        for i in range(each_interval[0], each_interval[-1]):\n",
    "            if i in new_interval:\n",
    "                pass\n",
    "            else:\n",
    "                new_interval.append(i)\n",
    "    return len(new_interval)"
   ]
  },
  {
   "cell_type": "code",
   "execution_count": 16,
   "metadata": {},
   "outputs": [
    {
     "data": {
      "text/plain": [
       "9"
      ]
     },
     "execution_count": 16,
     "metadata": {},
     "output_type": "execute_result"
    }
   ],
   "source": [
    "sum_of_intervals([[1,2],[6, 10],[11, 15]])"
   ]
  },
  {
   "cell_type": "code",
   "execution_count": 17,
   "metadata": {},
   "outputs": [
    {
     "data": {
      "text/plain": [
       "7"
      ]
     },
     "execution_count": 17,
     "metadata": {},
     "output_type": "execute_result"
    }
   ],
   "source": [
    "sum_of_intervals([[1,4], [7, 10], [3, 5]])"
   ]
  },
  {
   "cell_type": "code",
   "execution_count": 18,
   "metadata": {},
   "outputs": [
    {
     "data": {
      "text/plain": [
       "19"
      ]
     },
     "execution_count": 18,
     "metadata": {},
     "output_type": "execute_result"
    }
   ],
   "source": [
    "sum_of_intervals([[1,5], [10, 20], [1, 6], [16, 19], [5, 11]])"
   ]
  },
  {
   "cell_type": "code",
   "execution_count": null,
   "metadata": {},
   "outputs": [],
   "source": []
  }
 ],
 "metadata": {
  "kernelspec": {
   "display_name": "Python 3",
   "language": "python",
   "name": "python3"
  },
  "language_info": {
   "codemirror_mode": {
    "name": "ipython",
    "version": 3
   },
   "file_extension": ".py",
   "mimetype": "text/x-python",
   "name": "python",
   "nbconvert_exporter": "python",
   "pygments_lexer": "ipython3",
   "version": "3.7.1"
  }
 },
 "nbformat": 4,
 "nbformat_minor": 2
}
