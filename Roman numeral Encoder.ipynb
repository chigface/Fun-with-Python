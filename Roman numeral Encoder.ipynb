{
 "cells": [
  {
   "cell_type": "markdown",
   "metadata": {},
   "source": [
    "## Roman numeral Encoder"
   ]
  },
  {
   "cell_type": "code",
   "execution_count": 2,
   "metadata": {},
   "outputs": [],
   "source": [
    "def solution(input_num):\n",
    "    symbols = ['M', 'D', 'C', 'L', 'X', 'V', 'I']\n",
    "    input_num_len = len(str(input_num))\n",
    "    get_last_3 = []\n",
    "    if input_num_len>4:\n",
    "        for i in range(-3, 0, 1):\n",
    "            #print(i)\n",
    "            get_last_3.append(str(input_num)[i])\n",
    "        num=''.join(get_last_3)\n",
    "        #print(num)\n",
    "        roman = []\n",
    "        new_len = input_num_len-len(num)\n",
    "        initial_num = ''\n",
    "        for i in range(new_len):\n",
    "            initial_num+=str(input_num)[i]\n",
    "        #print(initial_num, int(initial_num))\n",
    "        roman.append(\"M\"*int(initial_num))\n",
    "        for i in range(len(num)):\n",
    "            get_length = len(num)-i\n",
    "            #print(get_length)\n",
    "            if get_length == 4:\n",
    "                pass\n",
    "                #roman.append(symbols[0]*int(num[i]))\n",
    "            elif get_length == 3:\n",
    "                if int(num[i])>8:\n",
    "                    roman.append(symbols[2]+symbols[0])\n",
    "                elif int(num[i])<=8 and int(num[i])>=5:\n",
    "                    roman.append(symbols[1]+ symbols[2]*(int(num[i])-5))\n",
    "                elif int(num[i])<4:\n",
    "                    roman.append(symbols[2]*(int(num[i])))\n",
    "                else:\n",
    "                    roman.append(symbols[2]+symbols[1])\n",
    "            elif get_length == 2:\n",
    "                if int(num[i])>8:\n",
    "                    roman.append(symbols[4]+symbols[2])\n",
    "                elif int(num[i])<=8 and int(num[i])>=5:\n",
    "                    roman.append(symbols[3]+ symbols[4]*(int(num[i])-5))\n",
    "                elif int(num[i])<4:\n",
    "                    roman.append(symbols[4]*(int(num[i])))\n",
    "                else:\n",
    "                    roman.append(symbols[4]+symbols[5])\n",
    "            if get_length == 1:\n",
    "                if int(num[i])>8:\n",
    "                    roman.append(symbols[6]+symbols[4])\n",
    "                elif int(num[i])<=8 and int(num[i])>=5:\n",
    "                    roman.append(symbols[5]+ symbols[6]*(int(num[i])-5))\n",
    "                elif int(num[i])<4:\n",
    "                    roman.append(symbols[6]*(int(num[i])))\n",
    "                else:\n",
    "                    roman.append(symbols[6]+symbols[5]) \n",
    "    else:\n",
    "        num = str(input_num)\n",
    "        roman = []\n",
    "        roman.append(\"M\"*(input_num_len-len(num)))\n",
    "        for i in range(len(num)):\n",
    "            get_length = len(num)-i\n",
    "            #print(get_length)\n",
    "            if get_length == 4:\n",
    "                roman.append(symbols[0]*int(num[i]))\n",
    "            elif get_length == 3:\n",
    "                if int(num[i])>8:\n",
    "                    roman.append(symbols[2]+symbols[0])\n",
    "                elif int(num[i])<=8 and int(num[i])>=5:\n",
    "                    roman.append(symbols[1]+ symbols[2]*(int(num[i])-5))\n",
    "                elif int(num[i])<4:\n",
    "                    roman.append(symbols[2]*(int(num[i])))\n",
    "                else:\n",
    "                    roman.append(symbols[2]+symbols[1])\n",
    "            elif get_length == 2:\n",
    "                if int(num[i])>8:\n",
    "                    roman.append(symbols[4]+symbols[2])\n",
    "                elif int(num[i])<=8 and int(num[i])>=5:\n",
    "                    roman.append(symbols[3]+ symbols[4]*(int(num[i])-5))\n",
    "                elif int(num[i])<4:\n",
    "                    roman.append(symbols[4]*(int(num[i])))\n",
    "                else:\n",
    "                    roman.append(symbols[4]+symbols[5])\n",
    "            if get_length == 1:\n",
    "                if int(num[i])>8:\n",
    "                    roman.append(symbols[6]+symbols[4])\n",
    "                elif int(num[i])<=8 and int(num[i])>=5:\n",
    "                    roman.append(symbols[5]+ symbols[6]*(int(num[i])-5))\n",
    "                elif int(num[i])<4:\n",
    "                    roman.append(symbols[6]*(int(num[i])))\n",
    "                else:\n",
    "                    roman.append(symbols[6]+symbols[5]) \n",
    "    return ''.join(roman)"
   ]
  },
  {
   "cell_type": "code",
   "execution_count": 3,
   "metadata": {},
   "outputs": [
    {
     "data": {
      "text/plain": [
       "'DXXXVI'"
      ]
     },
     "execution_count": 3,
     "metadata": {},
     "output_type": "execute_result"
    }
   ],
   "source": [
    "solution(536)"
   ]
  },
  {
   "cell_type": "code",
   "execution_count": 4,
   "metadata": {},
   "outputs": [
    {
     "data": {
      "text/plain": [
       "'MMMMMMMMMMMMMMMMMMMMMMMMMMMMMMMMMMDCLVII'"
      ]
     },
     "execution_count": 4,
     "metadata": {},
     "output_type": "execute_result"
    }
   ],
   "source": [
    "solution(34657)"
   ]
  },
  {
   "cell_type": "code",
   "execution_count": null,
   "metadata": {},
   "outputs": [],
   "source": []
  }
 ],
 "metadata": {
  "kernelspec": {
   "display_name": "Python 3",
   "language": "python",
   "name": "python3"
  },
  "language_info": {
   "codemirror_mode": {
    "name": "ipython",
    "version": 3
   },
   "file_extension": ".py",
   "mimetype": "text/x-python",
   "name": "python",
   "nbconvert_exporter": "python",
   "pygments_lexer": "ipython3",
   "version": "3.7.1"
  }
 },
 "nbformat": 4,
 "nbformat_minor": 2
}
