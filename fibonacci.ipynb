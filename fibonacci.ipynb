{
 "cells": [
  {
   "cell_type": "markdown",
   "metadata": {},
   "source": [
    "## Product of consecutive Fib numbers\n",
    "The Fibonacci numbers are the numbers in the following integer sequence (Fn):\n",
    "\n",
    "0, 1, 1, 2, 3, 5, 8, 13, 21, 34, 55, 89, 144, 233, ...\n",
    "\n",
    "such as\n",
    "\n",
    "''F(n) = F(n-1) + F(n-2) with F(0) = 0 and F(1) = 1.''\n",
    "\n",
    "Given a number, say prod (for product), we search two Fibonacci numbers F(n) and F(n+1) verifying\n",
    "\n",
    "''F(n) * F(n+1) = prod.''\n",
    "\n",
    "Your function productFib takes an integer (prod) and returns an array:\n",
    "\n",
    "[F(n), F(n+1), true] or {F(n), F(n+1), 1} or (F(n), F(n+1), True)\n",
    "depending on the language if F(n) * F(n+1) = prod.\n",
    "\n",
    "If you don't find two consecutive F(m) verifying F(m) * F(m+1) = prod, you will return\n",
    "\n",
    "[F(m), F(m+1), false] or {F(n), F(n+1), 0} or (F(n), F(n+1), False)\n",
    "F(m) being the smallest one such as F(m) * F(m+1) > prod.\n",
    "\n",
    "Some Examples of Return:\n",
    "(depend on the language)\n",
    "\n",
    "productFib(714) # should return (21, 34, true), since F(8) = 21, F(9) = 34 and 714 = 21 * 34\n",
    "\n",
    "productFib(800) # should return (34, 55, false), since F(8) = 21, F(9) = 34, F(10) = 55 and 21 * 34 < 800 < 34 * 55\n",
    "\n",
    "productFib(714) # should return [21, 34, true], \n",
    "\n",
    "productFib(800) # should return [34, 55, false], \n",
    "\n",
    "productFib(714) # should return {21, 34, 1}, \n",
    "\n",
    "productFib(800) # should return {34, 55, 0},  \n",
    "\n",
    "productFib(714) # should return {21, 34, true}, \n",
    "\n",
    "productFib(800) # should return {34, 55, false}, "
   ]
  },
  {
   "cell_type": "code",
   "execution_count": 25,
   "metadata": {},
   "outputs": [],
   "source": [
    "def add_last_two(val):\n",
    "    return val[-1] + val[-2]"
   ]
  },
  {
   "cell_type": "code",
   "execution_count": 26,
   "metadata": {},
   "outputs": [],
   "source": [
    "def fibonacci(n):    \n",
    "    val = []\n",
    "    for i in range(n+1):\n",
    "        if i == 0:\n",
    "            val.append(0)\n",
    "        elif i == 1:\n",
    "            val.append(1)\n",
    "        else:        \n",
    "            val.append(add_last_two(val))\n",
    "    return val"
   ]
  },
  {
   "cell_type": "code",
   "execution_count": 27,
   "metadata": {},
   "outputs": [
    {
     "data": {
      "text/plain": [
       "[0,\n",
       " 1,\n",
       " 1,\n",
       " 2,\n",
       " 3,\n",
       " 5,\n",
       " 8,\n",
       " 13,\n",
       " 21,\n",
       " 34,\n",
       " 55,\n",
       " 89,\n",
       " 144,\n",
       " 233,\n",
       " 377,\n",
       " 610,\n",
       " 987,\n",
       " 1597,\n",
       " 2584,\n",
       " 4181,\n",
       " 6765]"
      ]
     },
     "execution_count": 27,
     "metadata": {},
     "output_type": "execute_result"
    }
   ],
   "source": [
    "fibonacci(20)"
   ]
  },
  {
   "cell_type": "code",
   "execution_count": 108,
   "metadata": {},
   "outputs": [],
   "source": [
    "def prod_last_two(val):\n",
    "    \"This function multiplies the last two terms in the fib series and returns the value\"\n",
    "    return val[-1] * val[-2]\n",
    "def product_fib(prod):    \n",
    "    n = 200 # get the fibonacci series up to 200 terms\n",
    "    val = [] # fibonacci series\n",
    "    #fib_prod = []\n",
    "    for i in range(n+1):\n",
    "        if i == 0:\n",
    "            val.append(0) # append the first term\n",
    "            #fib_prod.append(0)\n",
    "        elif i == 1:\n",
    "            val.append(1) # append the second term\n",
    "            if prod_last_two(val) == prod: # check if the product of two terms is equal to the input arg\n",
    "                return [val[-2], val[-1], True] # returns True if the product of two fib series is equal to the input arg\n",
    "            elif prod_last_two(val)>= prod:\n",
    "                return [val[-2], val[-1], False] # returns False if the product of two fib series is equal to the input arg\n",
    "        else:        \n",
    "            val.append(add_last_two(val)) # add the last two terms and append term to the series\n",
    "            if prod_last_two(val) == prod: # check if the product of two terms is equal to the input arg\n",
    "                return [val[-2], val[-1], True] # returns True if the product of two fib series is equal to the input arg\n",
    "            elif prod_last_two(val)>= prod:\n",
    "                return [val[-2], val[-1], False] # returns False if the product of two fib series is equal to the input arg"
   ]
  },
  {
   "cell_type": "code",
   "execution_count": 109,
   "metadata": {},
   "outputs": [
    {
     "data": {
      "text/plain": [
       "[0, 1, 1, 2, 3, 5]"
      ]
     },
     "execution_count": 109,
     "metadata": {},
     "output_type": "execute_result"
    }
   ],
   "source": [
    "fibonacci(5)"
   ]
  },
  {
   "cell_type": "code",
   "execution_count": 112,
   "metadata": {},
   "outputs": [
    {
     "data": {
      "text/plain": [
       "[21, 34, True]"
      ]
     },
     "execution_count": 112,
     "metadata": {},
     "output_type": "execute_result"
    }
   ],
   "source": [
    "product_fib(714)"
   ]
  },
  {
   "cell_type": "code",
   "execution_count": 113,
   "metadata": {},
   "outputs": [
    {
     "data": {
      "text/plain": [
       "[6765, 10946, True]"
      ]
     },
     "execution_count": 113,
     "metadata": {},
     "output_type": "execute_result"
    }
   ],
   "source": [
    "product_fib(74049690)"
   ]
  },
  {
   "cell_type": "code",
   "execution_count": 114,
   "metadata": {},
   "outputs": [
    {
     "data": {
      "text/plain": [
       "[10946, 17711, False]"
      ]
     },
     "execution_count": 114,
     "metadata": {},
     "output_type": "execute_result"
    }
   ],
   "source": [
    "product_fib(84049690)"
   ]
  },
  {
   "cell_type": "code",
   "execution_count": 115,
   "metadata": {},
   "outputs": [
    {
     "data": {
      "text/plain": [
       "[10946, 17711, True]"
      ]
     },
     "execution_count": 115,
     "metadata": {},
     "output_type": "execute_result"
    }
   ],
   "source": [
    "product_fib(193864606)"
   ]
  },
  {
   "cell_type": "code",
   "execution_count": 116,
   "metadata": {},
   "outputs": [
    {
     "data": {
      "text/plain": [
       "[832040, 1346269, False]"
      ]
     },
     "execution_count": 116,
     "metadata": {},
     "output_type": "execute_result"
    }
   ],
   "source": [
    "product_fib(602070602070)"
   ]
  },
  {
   "cell_type": "code",
   "execution_count": 117,
   "metadata": {},
   "outputs": [
    {
     "data": {
      "text/plain": [
       "[354224848179261915075, 573147844013817084101, True]"
      ]
     },
     "execution_count": 117,
     "metadata": {},
     "output_type": "execute_result"
    }
   ],
   "source": [
    "product_fib(203023208030065646654504166904697594722575)"
   ]
  },
  {
   "cell_type": "code",
   "execution_count": 118,
   "metadata": {},
   "outputs": [
    {
     "data": {
      "text/plain": [
       "[832040, 1346269, True]"
      ]
     },
     "execution_count": 118,
     "metadata": {},
     "output_type": "execute_result"
    }
   ],
   "source": [
    "product_fib(1120149658760)"
   ]
  },
  {
   "cell_type": "code",
   "execution_count": 119,
   "metadata": {},
   "outputs": [
    {
     "data": {
      "text/plain": [
       "[0, 1, True]"
      ]
     },
     "execution_count": 119,
     "metadata": {},
     "output_type": "execute_result"
    }
   ],
   "source": [
    "product_fib(0)"
   ]
  },
  {
   "cell_type": "code",
   "execution_count": null,
   "metadata": {},
   "outputs": [],
   "source": []
  }
 ],
 "metadata": {
  "kernelspec": {
   "display_name": "Python 3",
   "language": "python",
   "name": "python3"
  },
  "language_info": {
   "codemirror_mode": {
    "name": "ipython",
    "version": 3
   },
   "file_extension": ".py",
   "mimetype": "text/x-python",
   "name": "python",
   "nbconvert_exporter": "python",
   "pygments_lexer": "ipython3",
   "version": "3.7.1"
  }
 },
 "nbformat": 4,
 "nbformat_minor": 2
}
